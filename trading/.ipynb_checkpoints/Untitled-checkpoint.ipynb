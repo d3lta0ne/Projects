{
 "cells": [
  {
   "cell_type": "code",
   "execution_count": 1,
   "metadata": {},
   "outputs": [],
   "source": [
    "from pyrh import Robinhood\n",
    "import pandas as pd\n",
    "import quandl as q\n",
    "import config"
   ]
  },
  {
   "cell_type": "code",
   "execution_count": 1,
   "metadata": {},
   "outputs": [
    {
     "ename": "SyntaxError",
     "evalue": "EOL while scanning string literal (<ipython-input-1-5f9b6858d959>, line 1)",
     "output_type": "error",
     "traceback": [
      "\u001b[0;36m  File \u001b[0;32m\"<ipython-input-1-5f9b6858d959>\"\u001b[0;36m, line \u001b[0;32m1\u001b[0m\n\u001b[0;31m    q.ApiConfig.api_key = \"14T66U5jrHF_XEZGucrJ”\u001b[0m\n\u001b[0m                                                ^\u001b[0m\n\u001b[0;31mSyntaxError\u001b[0m\u001b[0;31m:\u001b[0m EOL while scanning string literal\n"
     ]
    }
   ],
   "source": [
    "q.ApiConfig.api_key = \"14T66U5jrHF_XEZGucrJ\"\n",
    "# robinhood = Robinhood()\n",
    "# rhlg_challengetype = \"sms\"\n",
    "# robinhood.login(username=config.username, password=config.password,\n",
    "#                 challenge_type=rhlg_challengetype)\n",
    "\n",
    "\n",
    "#send a get request to query Microsoft's end of day stock prices from 1st #Jan, 2010 to 1st Jan, 2019\n",
    "\n",
    "msft_data = q.get(\"EOD/MSFT\", start_date=\"2010-01-01\", end_date=\"2019-01-01\")"
   ]
  },
  {
   "cell_type": "code",
   "execution_count": 63,
   "metadata": {},
   "outputs": [
    {
     "data": {
      "text/plain": [
       "{'url': 'https://api.robinhood.com/user/',\n",
       " 'id': '640c44f3-9717-4324-a4a0-aeef20aad20a',\n",
       " 'id_info': 'https://api.robinhood.com/user/id/',\n",
       " 'username': 'lil_president',\n",
       " 'email': 'davidbruno2000@gmail.com',\n",
       " 'email_verified': True,\n",
       " 'first_name': 'David',\n",
       " 'last_name': 'Bruno',\n",
       " 'origin': {'locality': 'US'},\n",
       " 'profile_name': 'lil_president',\n",
       " 'created_at': '2018-05-26T00:53:09.647544-04:00'}"
      ]
     },
     "execution_count": 63,
     "metadata": {},
     "output_type": "execute_result"
    }
   ],
   "source": [
    "# robinhood.user()"
   ]
  },
  {
   "cell_type": "code",
   "execution_count": 111,
   "metadata": {},
   "outputs": [],
   "source": [
    "# cash = robinhood.get_account()[\"portfolio_cash\"]"
   ]
  },
  {
   "cell_type": "code",
   "execution_count": 123,
   "metadata": {},
   "outputs": [
    {
     "name": "stdout",
     "output_type": "stream",
     "text": [
      "[('EDOW', '2.00000000', 'https://api.robinhood.com/instruments/b884abad-905c-47dc-85d7-6d8b4b8b7c13/'), ('REML', '27.81107200', 'https://api.robinhood.com/instruments/bfafca25-dc34-438f-80c6-6b827fffa745/'), ('F', '5.00000000', 'https://api.robinhood.com/instruments/6df56bd0-0bf2-44ab-8875-f94fd8526942/'), ('MBT', '3.07188700', 'https://api.robinhood.com/instruments/76281be2-925a-4d8d-a20d-7c0825986150/'), ('IVOO', '1.00000000', 'https://api.robinhood.com/instruments/706d4520-6c83-4975-846e-093efe997de8/'), ('NDAQ', '1.00000000', 'https://api.robinhood.com/instruments/8decc068-5bfd-4cc6-bb2c-f2efd3119536/'), ('MIST', '13.00000000', 'https://api.robinhood.com/instruments/ab439976-b64b-432f-b4a4-362dbfbca3aa/'), ('WTBDY', '5.00000000', 'https://api.robinhood.com/instruments/567a3970-e8e3-4191-804e-b67be80e9562/'), ('BHLB', '2.73482400', 'https://api.robinhood.com/instruments/85be3945-d95d-4f9b-af68-42bb265e880e/'), ('AMZN', '0.01841400', 'https://api.robinhood.com/instruments/c0bb3aec-bd1e-471e-a4f0-ca011cbec711/'), ('OPK', '1.00000000', 'https://api.robinhood.com/instruments/89aa39f5-1dcb-40ba-b6a0-d2c430bb7dd7/'), ('ATRA', '2.00000000', 'https://api.robinhood.com/instruments/2bc4ea99-c9d7-4680-8319-06e9425852f8/'), ('NTDOY', '1.00000000', 'https://api.robinhood.com/instruments/5c2dc035-d491-4252-afea-49ec3260aced/'), ('BP', '2.00000000', 'https://api.robinhood.com/instruments/fb5c5151-e89b-4e9f-82ad-a51178c18e75/'), ('KO', '2.01890800', 'https://api.robinhood.com/instruments/bb9a01df-5982-42d4-88db-8662f23cdab5/'), ('ABT', '1.00319000', 'https://api.robinhood.com/instruments/2018c0a7-2525-4dee-8de4-b6fb2c1f286e/'), ('LMLB', '12.00000000', 'https://api.robinhood.com/instruments/fcce7ed9-33f0-4710-81ad-9be548057357/'), ('OXLC', '22.33815500', 'https://api.robinhood.com/instruments/5edc4dbd-e70a-42b6-ba72-03a8b37ceab4/'), ('QQQ', '0.00143500', 'https://api.robinhood.com/instruments/1790dd4f-a7ff-409e-90de-cad5efafde10/'), ('AGNC', '3.02422600', 'https://api.robinhood.com/instruments/5dbe8ac1-abd8-44bd-bbdb-c1cd899271ff/'), ('PFE', '5.00000000', 'https://api.robinhood.com/instruments/6ec6c70e-d686-4d73-b5a8-74fec96aca0e/'), ('CEFD', '2.00000000', 'https://api.robinhood.com/instruments/5653d63a-a252-4f9b-a709-60b3dbb3a1e9/'), ('NEE', '1.00000000', 'https://api.robinhood.com/instruments/68bae46a-c0a5-4cda-86a9-1d2460b0b7d3/'), ('FSLR', '1.00000000', 'https://api.robinhood.com/instruments/d97168dc-d0f3-464f-bcb9-59a0e1c2526b/'), ('CSIQ', '2.29677200', 'https://api.robinhood.com/instruments/4204795c-da73-4961-9b2c-495fcd13b040/'), ('FCEL', '20.00000000', 'https://api.robinhood.com/instruments/4cc6e36f-e12a-4165-8267-012029c05053/'), ('YLCO', '2.00000000', 'https://api.robinhood.com/instruments/a2c16cba-c8bf-4ee2-9d37-1ade7b0ff186/'), ('ESGU', '0.01186800', 'https://api.robinhood.com/instruments/ac2db2a0-9d00-43a8-ab25-2864aa44ab49/'), ('INDA', '0.02639500', 'https://api.robinhood.com/instruments/0a6e2b33-1f2d-4bc4-adc5-cc19e0262736/'), ('FUND', '10.00000000', 'https://api.robinhood.com/instruments/c0e60194-86a2-4a15-88a5-a25e18449a33/'), ('TSM', '0.24628100', 'https://api.robinhood.com/instruments/ca4821f9-06c3-4c22-bbb8-efe569f23d2b/'), ('HPQ', '0.43001300', 'https://api.robinhood.com/instruments/3bd10275-c3ce-4622-967f-3276cd9ffd20/'), ('UL', '0.34506500', 'https://api.robinhood.com/instruments/8f424566-aa16-4569-96ab-1169137546ee/'), ('KMB', '0.14544900', 'https://api.robinhood.com/instruments/8cdd3bb0-d16f-4603-a43a-d97f42281de4/'), ('HPE', '0.85397000', 'https://api.robinhood.com/instruments/5e0dcc39-6692-4126-8741-e6e26f13672b/'), ('ECL', '0.02260300', 'https://api.robinhood.com/instruments/666a0605-e80c-4686-8d10-f3015131ea6a/'), ('BLL', '0.01082200', 'https://api.robinhood.com/instruments/4611cf33-7591-41c2-994d-f05c11fbdad5/'), ('EMR', '0.01315700', 'https://api.robinhood.com/instruments/da4e8130-90b4-4c27-abd4-1e5be23d083a/'), ('DHR', '0.02715000', 'https://api.robinhood.com/instruments/32892812-5019-4694-91ca-1ba0c1f5c681/'), ('IR', '0.04456000', 'https://api.robinhood.com/instruments/ee412bd7-3aa6-41a9-abba-efad4e9cd6e5/'), ('CSX', '0.01104500', 'https://api.robinhood.com/instruments/c67150f5-a4d6-4bc2-940c-303482da4200/'), ('SPOT', '0.00630400', 'https://api.robinhood.com/instruments/9c53326c-d07e-4b82-82d2-b108ec5d9530/'), ('ETN', '0.00852400', 'https://api.robinhood.com/instruments/98245487-3340-42c9-888d-1a97743466b5/'), ('GPP', '2.00000000', 'https://api.robinhood.com/instruments/198aebba-08fc-4369-801f-6a9f37257f15/'), ('AMAT', '0.01155400', 'https://api.robinhood.com/instruments/18006bfb-cbad-4326-8348-738c94ea47fa/'), ('EBAY', '0.03985700', 'https://api.robinhood.com/instruments/aa7e3b0b-fc04-4d2e-a986-e5c2e6f1b2fb/'), ('KSU', '0.01057400', 'https://api.robinhood.com/instruments/e445a41b-46c2-440c-adac-c9e5a01a18e8/'), ('LNGR', '1.03406200', 'https://api.robinhood.com/instruments/c32e4462-5556-4997-b6b2-087b3279133b/'), ('REGI', '0.67170400', 'https://api.robinhood.com/instruments/87bbe4c8-bed3-49bb-ba08-ba71f71d0c70/'), ('ITRI', '0.01193500', 'https://api.robinhood.com/instruments/20a08e43-c31e-470a-be78-0cdb7b9f4e57/'), ('ON', '0.03410000', 'https://api.robinhood.com/instruments/dad8fa2c-1e8d-4cb9-b354-1f0b91a4193e/'), ('AACAY', '0.17271100', 'https://api.robinhood.com/instruments/14b1afb0-3d8f-4760-9f69-d58d50545e75/'), ('RFIL', '0.18348600', 'https://api.robinhood.com/instruments/1fd943d6-bfb7-4af2-8568-cae2b15c8ecc/'), ('SIEGY', '0.01468200', 'https://api.robinhood.com/instruments/7a11b95d-3705-41df-af0c-195785529e41/'), ('TM', '0.02579700', 'https://api.robinhood.com/instruments/c917908f-0c35-4fc9-92a3-892bf8bc0f12/'), ('RUN', '1.00502500', 'https://api.robinhood.com/instruments/a144bc4c-ebe0-4a0e-a048-e6536e0fbe8c/'), ('AWK', '0.03356500', 'https://api.robinhood.com/instruments/b7da9d4f-4fff-42fb-8429-b53f99b1e3ae/'), ('FAN', '1.91866900', 'https://api.robinhood.com/instruments/e45ba67e-c386-40ac-9aa6-669a4d286468/'), ('JKS', '0.08451600', 'https://api.robinhood.com/instruments/c789f1ad-4047-459f-a7d4-2d294720653a/'), ('UMICY', '0.44286900', 'https://api.robinhood.com/instruments/6ac8f5ee-aeeb-4224-a9a5-2ebbfcc7f44a/'), ('TSLA', '0.00495500', 'https://api.robinhood.com/instruments/e39ed23a-7bd1-4587-b060-71988d9ef483/'), ('OLLI', '1.00000000', 'https://api.robinhood.com/instruments/17ee87f7-855d-423c-9d70-c873cb56c159/'), ('MDLA', '1.00000000', 'https://api.robinhood.com/instruments/fc65b1db-d74e-45ae-aa08-618a1ba89334/'), ('CRTX', '2.00000000', 'https://api.robinhood.com/instruments/6ab525af-574e-433f-beed-bad1ca860fe2/'), ('EOSE', '3.00000000', 'https://api.robinhood.com/instruments/ef6e8e8b-de82-49ca-b510-db598c8d1cf0/'), ('STZ', '0.00932200', 'https://api.robinhood.com/instruments/4d3a760b-152a-4055-91ba-fd955253f631/'), ('CBAT', '0.15673300', 'https://api.robinhood.com/instruments/522959cb-e3b2-4ffd-99bb-7bfc3808482c/'), ('SNDL', '21.00000000', 'https://api.robinhood.com/instruments/4e5f3782-d87a-4b16-824f-ec4076c55e49/')]\n"
     ]
    }
   ],
   "source": [
    "# portfolio = []\n",
    "# for stock in robinhood.securities_owned()[\"results\"]:\n",
    "#     portfolio.append((robinhood.get_url(stock[\"instrument\"])['symbol'], stock[\"quantity\"],stock[\"instrument\"]))\n",
    "# print(portfolio)"
   ]
  },
  {
   "cell_type": "code",
   "execution_count": 127,
   "metadata": {},
   "outputs": [
    {
     "name": "stdout",
     "output_type": "stream",
     "text": [
      "You have 2.00000000 share(s) of EDOW at 26.940000 per share\n",
      "You have 27.81107200 share(s) of REML at 5.440000 per share\n",
      "You have 5.00000000 share(s) of F at 9.220000 per share\n",
      "You have 3.07188700 share(s) of MBT at 8.570000 per share\n",
      "You have 1.00000000 share(s) of IVOO at 151.360000 per share\n",
      "You have 1.00000000 share(s) of NDAQ at 128.560000 per share\n",
      "You have 13.00000000 share(s) of MIST at 6.850000 per share\n",
      "You have 5.00000000 share(s) of WTBDY at 10.620000 per share\n",
      "You have 2.73482400 share(s) of BHLB at 18.430000 per share\n",
      "You have 0.01841400 share(s) of AMZN at 3158.000000 per share\n",
      "You have 1.00000000 share(s) of OPK at 4.590000 per share\n",
      "You have 2.00000000 share(s) of ATRA at 26.230000 per share\n",
      "You have 1.00000000 share(s) of NTDOY at 69.210000 per share\n",
      "You have 2.00000000 share(s) of BP at 21.680000 per share\n",
      "You have 2.01890800 share(s) of KO at 52.990000 per share\n",
      "You have 1.00319000 share(s) of ABT at 107.180000 per share\n",
      "You have 12.00000000 share(s) of LMLB at 10.135500 per share\n",
      "You have 22.33815500 share(s) of OXLC at 5.870000 per share\n",
      "You have 0.00143500 share(s) of QQQ at 307.250000 per share\n",
      "You have 3.02422600 share(s) of AGNC at 15.480000 per share\n",
      "You have 5.00000000 share(s) of PFE at 41.250000 per share\n",
      "You have 2.00000000 share(s) of CEFD at 28.648900 per share\n",
      "You have 1.00000000 share(s) of NEE at 73.270000 per share\n",
      "You have 1.00000000 share(s) of FSLR at 88.750000 per share\n",
      "You have 2.29677200 share(s) of CSIQ at 39.710000 per share\n",
      "You have 20.00000000 share(s) of FCEL at 7.830000 per share\n",
      "You have 2.00000000 share(s) of YLCO at 16.840000 per share\n",
      "You have 0.01186800 share(s) of ESGU at 84.780000 per share\n",
      "You have 0.02639500 share(s) of INDA at 38.310000 per share\n",
      "You have 10.00000000 share(s) of FUND at 7.050000 per share\n",
      "You have 0.24628100 share(s) of TSM at 106.390000 per share\n",
      "You have 0.43001300 share(s) of HPQ at 23.486200 per share\n",
      "You have 0.34506500 share(s) of UL at 58.000000 per share\n",
      "You have 0.14544900 share(s) of KMB at 136.920000 per share\n",
      "You have 0.85397000 share(s) of HPE at 11.960000 per share\n",
      "You have 0.02260300 share(s) of ECL at 222.740000 per share\n",
      "You have 0.01082200 share(s) of BLL at 95.500000 per share\n",
      "You have 0.01315700 share(s) of EMR at 79.170000 per share\n",
      "You have 0.02715000 share(s) of DHR at 226.150000 per share\n",
      "You have 0.04456000 share(s) of IR at 44.330000 per share\n",
      "You have 0.01104500 share(s) of CSX at 92.035000 per share\n",
      "You have 0.00630400 share(s) of SPOT at 342.000000 per share\n",
      "You have 0.00852400 share(s) of ETN at 117.400000 per share\n",
      "You have 2.00000000 share(s) of GPP at 8.830000 per share\n",
      "You have 0.01155400 share(s) of AMAT at 89.140000 per share\n",
      "You have 0.03985700 share(s) of EBAY at 50.030000 per share\n",
      "You have 0.01057400 share(s) of KSU at 195.250000 per share\n",
      "You have 1.03406200 share(s) of LNGR at 27.325000 per share\n",
      "You have 0.67170400 share(s) of REGI at 55.370000 per share\n",
      "You have 0.01193500 share(s) of ITRI at 83.930000 per share\n",
      "You have 0.03410000 share(s) of ON at 30.575000 per share\n",
      "You have 0.17271100 share(s) of AACAY at 5.464000 per share\n",
      "You have 0.18348600 share(s) of RFIL at 5.380000 per share\n",
      "You have 0.01468200 share(s) of SIEGY at 68.020000 per share\n",
      "You have 0.02579700 share(s) of TM at 138.150000 per share\n",
      "You have 1.00502500 share(s) of RUN at 58.630000 per share\n",
      "You have 0.03356500 share(s) of AWK at 150.320000 per share\n",
      "You have 1.91866900 share(s) of FAN at 20.840000 per share\n",
      "You have 0.08451600 share(s) of JKS at 58.360000 per share\n",
      "You have 0.44286900 share(s) of UMICY at 11.180000 per share\n",
      "You have 0.00495500 share(s) of TSLA at 641.760000 per share\n",
      "You have 1.00000000 share(s) of OLLI at 78.770000 per share\n",
      "You have 1.00000000 share(s) of MDLA at 31.460000 per share\n",
      "You have 2.00000000 share(s) of CRTX at 40.200000 per share\n",
      "You have 3.00000000 share(s) of EOSE at 15.350000 per share\n",
      "You have 0.00932200 share(s) of STZ at 212.040000 per share\n",
      "You have 0.15673300 share(s) of CBAT at 6.460000 per share\n",
      "You have 21.00000000 share(s) of SNDL at 0.524000 per share\n"
     ]
    }
   ],
   "source": [
    "# for stock,quantity,url in portfolio:\n",
    "#     print(f'You have {quantity} share(s) of {stock} at {robinhood.last_trade_price(stock)[0][0]} per share')"
   ]
  },
  {
   "cell_type": "code",
   "execution_count": 126,
   "metadata": {},
   "outputs": [
    {
     "data": {
      "text/plain": [
       "<Response [201]>"
      ]
     },
     "execution_count": 126,
     "metadata": {},
     "output_type": "execute_result"
    }
   ],
   "source": []
  }
 ],
 "metadata": {
  "kernelspec": {
   "display_name": "Python 3",
   "language": "python",
   "name": "python3"
  },
  "language_info": {
   "codemirror_mode": {
    "name": "ipython",
    "version": 3
   },
   "file_extension": ".py",
   "mimetype": "text/x-python",
   "name": "python",
   "nbconvert_exporter": "python",
   "pygments_lexer": "ipython3",
   "version": "3.8.5"
  }
 },
 "nbformat": 4,
 "nbformat_minor": 4
}
